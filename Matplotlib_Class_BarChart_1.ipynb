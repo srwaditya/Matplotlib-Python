{
 "cells": [
  {
   "cell_type": "markdown",
   "id": "14740cb4-cada-4344-8fac-480315ab053a",
   "metadata": {},
   "source": [
    "### Case Study : Online Retailer"
   ]
  },
  {
   "cell_type": "markdown",
   "id": "e90f4cd5-6b52-48ef-9570-cc569ea86923",
   "metadata": {},
   "source": [
    "#### Bar charts : plot sales accross each category\n",
    "* A Bar chart use bars to show comparisions between catogaries of data.\n",
    "* A Bar Graph will always have two axis.\n",
    "* One Axis have always numeric or meaures.\n",
    "* the other will describes the types of category being compared or dimensions. "
   ]
  },
  {
   "cell_type": "code",
   "execution_count": 3,
   "id": "6ae7e9ae-90eb-4f45-8d77-59c629c8b6e9",
   "metadata": {},
   "outputs": [],
   "source": [
    "import numpy as np\n",
    "import pandas as pd\n",
    "import matplotlib.pyplot as plt"
   ]
  },
  {
   "cell_type": "code",
   "execution_count": 8,
   "id": "1fc276ac-1cb7-45ce-8bcc-0d43a7f8c794",
   "metadata": {},
   "outputs": [],
   "source": [
    "Product_Category=np.array(['Furniture','Technology','Office Supplier'])\n",
    "Sales= np.array([2395801.897, 4567891.098, 4578910.054])"
   ]
  },
  {
   "cell_type": "code",
   "execution_count": 13,
   "id": "71a681c8-4a2f-4f10-9219-c50cc03885fc",
   "metadata": {},
   "outputs": [
    {
     "data": {
      "image/png": "[encoded data removed]",
      "text/plain": [
       "<Figure size 432x288 with 1 Axes>"
      ]
     },
     "metadata": {
      "needs_background": "light"
     },
     "output_type": "display_data"
    }
   ],
   "source": [
    "plt.bar(Product_Category,Sales)\n",
    "plt.show()"
   ]
  },
  {
   "cell_type": "code",
   "execution_count": 49,
   "id": "2cc5940c-df0e-4161-8d58-2acc1b0668a5",
   "metadata": {},
   "outputs": [
    {
     "data": {
      "text/plain": [
       "([<matplotlib.axis.YTick at 0x7f8194ed14f0>,\n",
       "  <matplotlib.axis.YTick at 0x7f8194ed10d0>,\n",
       "  <matplotlib.axis.YTick at 0x7f8194ec4f40>,\n",
       "  <matplotlib.axis.YTick at 0x7f8194ef4f10>,\n",
       "  <matplotlib.axis.YTick at 0x7f8190a0b490>,\n",
       "  <matplotlib.axis.YTick at 0x7f8190a0b9a0>],\n",
       " [Text(0, 0, '0M'),\n",
       "  Text(0, 1000000, '1M'),\n",
       "  Text(0, 2000000, '2M'),\n",
       "  Text(0, 3000000, '3M'),\n",
       "  Text(0, 4000000, '4M'),\n",
       "  Text(0, 5000000, '5M')])"
      ]
     },
     "execution_count": 49,
     "metadata": {},
     "output_type": "execute_result"
    },
    {
     "data": {
      "image/png": "[encoded data removed]",
      "text/plain": [
       "<Figure size 432x288 with 1 Axes>"
      ]
     },
     "metadata": {
      "needs_background": "light"
     },
     "output_type": "display_data"
    }
   ],
   "source": [
    "#ploting a bar chart with setting the width size 0.5 and align in to the center.\n",
    "\n",
    "plt.bar(Product_Category,Sales, width=0.5, align='center', edgecolor='Blue', color='gold' )\n",
    "\n",
    "#Adding & Foramtting title \n",
    "plt.title('Sales  Across Product Categories\\n', fontdict= {'fontsize':15, 'fontweight':10, 'color':'Blue'})\n",
    "plt.xlabel('Product_Category', fontdict= {'fontsize':15, 'fontweight':10, 'color':'Green'})\n",
    "\n",
    "#labeling Axises \n",
    "plt.ylabel('Sales\\n', fontdict= {'fontsize':15, 'fontweight':10, 'color':'Brown'})\n",
    "\n",
    "#Modifying Tick to show infromation in million doller's\n",
    "\n",
    "ticks= np.arange(0,6000000,1000000)\n",
    "labels=['{}M'.format(i//1000000) for i in ticks]\n",
    "plt.yticks(ticks, labels)"
   ]
  },
  {
   "cell_type": "code",
   "execution_count": null,
   "id": "8ae8ca96-0cf2-4031-9da4-de339bf5c950",
   "metadata": {},
   "outputs": [],
   "source": []
  },
  {
   "cell_type": "code",
   "execution_count": null,
   "id": "a0912f3f-d478-4157-ae8b-164532b50d69",
   "metadata": {},
   "outputs": [],
   "source": []
  },
  {
   "cell_type": "code",
   "execution_count": null,
   "id": "8ac7d406-fd0e-44e8-b1de-740c9b1f705f",
   "metadata": {},
   "outputs": [],
   "source": []
  }
 ],
 "metadata": {
  "kernelspec": {
   "display_name": "Python 3",
   "language": "python",
   "name": "python3"
  },
  "language_info": {
   "codemirror_mode": {
    "name": "ipython",
    "version": 3
   },
   "file_extension": ".py",
   "mimetype": "text/x-python",
   "name": "python",
   "nbconvert_exporter": "python",
   "pygments_lexer": "ipython3",
   "version": "3.8.8"
  }
 },
 "nbformat": 4,
 "nbformat_minor": 5
}
